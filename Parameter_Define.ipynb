{
 "cells": [
  {
   "cell_type": "code",
   "execution_count": 10,
   "metadata": {},
   "outputs": [],
   "source": [
    "def parameters_values(value):\n",
    "    if value=='predict':\n",
    "        filename=\"Raw_Data/Predictedd/\"\n",
    "    elif value=='jd':\n",
    "        filename='Raw_Data/JD/'\n",
    "    elif value=='pos':\n",
    "        filename=\"Raw_Data/Positive/\"\n",
    "    elif value=='neg':\n",
    "        filename = \"Raw_Data/Negative/\"\n",
    "    else:\n",
    "        Print(\"No Path found\")\n",
    "    return filename"
   ]
  },
  {
   "cell_type": "code",
   "execution_count": null,
   "metadata": {},
   "outputs": [],
   "source": []
  }
 ],
 "metadata": {
  "kernelspec": {
   "display_name": "DataScience 1.0",
   "language": "python",
   "name": "datascience"
  },
  "language_info": {
   "codemirror_mode": {
    "name": "ipython",
    "version": 3
   },
   "file_extension": ".py",
   "mimetype": "text/x-python",
   "name": "python",
   "nbconvert_exporter": "python",
   "pygments_lexer": "ipython3",
   "version": "3.7.3"
  }
 },
 "nbformat": 4,
 "nbformat_minor": 4
}
