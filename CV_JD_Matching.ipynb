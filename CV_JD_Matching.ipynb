{
 "cells": [
  {
   "cell_type": "code",
   "execution_count": null,
   "metadata": {},
   "outputs": [],
   "source": [
    "import import_ipynb\n",
    "import datetime\n",
    "import gensim\n",
    "import numpy as np\n",
    "import pandas as pd\n",
    "from gensim.matutils import softcossim \n",
    "from gensim import corpora\n",
    "import gensim.downloader as api\n",
    "from gensim.utils import simple_preprocess\n",
    "from Parameter_Define import *\n",
    "from CV_Preprocessing import *"
   ]
  },
  {
   "cell_type": "code",
   "execution_count": null,
   "metadata": {},
   "outputs": [],
   "source": [
    "def _getToday():\n",
    "        return datetime.date.today().strftime(\"%Y%m%d\")"
   ]
  },
  {
   "cell_type": "code",
   "execution_count": null,
   "metadata": {},
   "outputs": [],
   "source": [
    "#PREDICT_FOLDER =parameters_values('predict')\n",
    "#Threshhold=0.80\n",
    "#Job_Desc=parameters_values('jd')\n",
    "#pre_df,pre_file_names = read_resumes('predicted', PREDICT_FOLDER)\n",
    "#Jd_df,Jd_file_names = read_resumes('JD', Job_Desc)"
   ]
  },
  {
   "cell_type": "code",
   "execution_count": null,
   "metadata": {},
   "outputs": [],
   "source": [
    "def JD_Matching(pre_df,Jd_df):\n",
    "    documents=[]\n",
    "    for doc in pre_df['Text']:\n",
    "        documents.append(doc)\n",
    "    for doc in Jd_df['Text']:\n",
    "        documents.append(doc)\n",
    "    fasttext_model300 = api.load('fasttext-wiki-news-subwords-300')\n",
    "    # Prepare a dictionary and a corpus.\n",
    "    dictionary = corpora.Dictionary([simple_preprocess(doc) for doc in documents])\n",
    "    # Prepare the similarity matrix\n",
    "    similarity_matrix = fasttext_model300.similarity_matrix(dictionary, tfidf=None, threshold=0.0, exponent=2.0, nonzero_limit=100)\n",
    "    # Convert the sentences into bag-of-words vectors.\n",
    "    sentences=[]\n",
    "    Job_desc=[]\n",
    "    for doc in pre_df['Text']:\n",
    "        docs=dictionary.doc2bow(simple_preprocess(doc))\n",
    "        sentences.append(docs)\n",
    "    for doc in Jd_df['Text']:\n",
    "        docs=dictionary.doc2bow(simple_preprocess(doc))\n",
    "        Job_desc.append(docs)\n",
    "    len_predicted = np.arange(len(sentences))\n",
    "    len_Job_desc = np.arange(len(Job_desc))\n",
    "    xx, yy = np.meshgrid(len_Job_desc,len_predicted)\n",
    "    cossim_mat = pd.DataFrame([[round(softcossim(sentences[i],Job_desc[j], similarity_matrix) ,2) for i, j in zip(x,y)] for y, x in zip(xx, yy)])\n",
    "    return cossim_mat\n",
    "    "
   ]
  },
  {
   "cell_type": "code",
   "execution_count": null,
   "metadata": {},
   "outputs": [],
   "source": [
    "#values=create_soft_cossim_matrix(sentences,Job_desc)\n",
    "#pre_file_names=[line.split(\"/\")[-1] for line in pre_file_names]\n",
    "#Jd_file_names=[line.split(\"/\")[-1] for line in Jd_file_names]\n",
    "#values.columns = Jd_file_names\n",
    "#values[\"Candidate Names\"] = pre_file_names\n",
    "#c=\"%s_%s.%s\" % (\"Model_Saved/Shortlisted_Candidates_\", _getToday() ,\"csv\")\n",
    "#df.to_csv(c)\n",
    "\n",
    "\n",
    "\n",
    "#c=\"%s_%s.%s\" % (\"Model_Saved/Shortlisted_Candidates_\", _getToday() ,\"csv\")\n",
    "#values.to_csv(c)"
   ]
  },
  {
   "cell_type": "code",
   "execution_count": null,
   "metadata": {},
   "outputs": [],
   "source": [
    "#values.columns"
   ]
  },
  {
   "cell_type": "code",
   "execution_count": null,
   "metadata": {},
   "outputs": [],
   "source": [
    "#column_names = [\"Candidate Names\", \"JD for Analyst.docx\", \"JD for Lead.docx\"]\n",
    "#values = values.reindex(columns=column_names)"
   ]
  },
  {
   "cell_type": "code",
   "execution_count": null,
   "metadata": {},
   "outputs": [],
   "source": [
    "#var=len(values.columns)\n",
    "#if((values.iloc[:,1:var]>=0.40) or (values.iloc[:,1:var-1]>=0.40) or (values.iloc[:,1:var-2]>=0.40) or (values.iloc[:,1:var-3]>=0.40)):\n",
    "#    values['Status'] = 'Matched'\n",
    "#else:\n",
    "#    values['Status']  ='MisMatched'\n",
    "\n",
    "\n",
    "\n",
    "\n"
   ]
  },
  {
   "cell_type": "code",
   "execution_count": null,
   "metadata": {},
   "outputs": [],
   "source": [
    "#k=np.logical_or((values.iloc[:,1:var]>=0.40), (values.iloc[:,1:var-1]>=0.40))\n",
    "#k"
   ]
  },
  {
   "cell_type": "code",
   "execution_count": null,
   "metadata": {},
   "outputs": [],
   "source": [
    "#Threshhold=0.80\n",
    "#df.loc[df['Score'] >= Threshhold, 'Status'] ='Matched'\n",
    "#df.loc[df['Score'] < Threshhold ,'Status'] ='MisMatched'\n",
    "#df"
   ]
  },
  {
   "cell_type": "code",
   "execution_count": null,
   "metadata": {},
   "outputs": [],
   "source": [
    "#c=\"%s_%s.%s\" % (\"Model_Saved/Shortlisted_Candidates_\", _getToday() ,\"csv\")\n",
    "#df.to_csv(c)"
   ]
  },
  {
   "cell_type": "code",
   "execution_count": null,
   "metadata": {},
   "outputs": [],
   "source": [
    "#df['Candidate_Names'] = df.index\n"
   ]
  }
 ],
 "metadata": {
  "kernelspec": {
   "display_name": "DataScience 1.0",
   "language": "python",
   "name": "datascience"
  },
  "language_info": {
   "codemirror_mode": {
    "name": "ipython",
    "version": 3
   },
   "file_extension": ".py",
   "mimetype": "text/x-python",
   "name": "python",
   "nbconvert_exporter": "python",
   "pygments_lexer": "ipython3",
   "version": "3.7.3"
  }
 },
 "nbformat": 4,
 "nbformat_minor": 4
}
