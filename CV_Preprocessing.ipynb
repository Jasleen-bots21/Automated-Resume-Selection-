{
 "cells": [
  {
   "cell_type": "code",
   "execution_count": 1,
   "metadata": {},
   "outputs": [],
   "source": [
    "import pandas as pd\n",
    "import textract\n",
    "import glob\n",
    "import re\n",
    "from nltk.corpus import stopwords"
   ]
  },
  {
   "cell_type": "code",
   "execution_count": 2,
   "metadata": {},
   "outputs": [
    {
     "name": "stderr",
     "output_type": "stream",
     "text": [
      "[nltk_data] Downloading package stopwords to\n",
      "[nltk_data]     /home/jasleen.bhatia@fiserv.com/nltk_data...\n",
      "[nltk_data]   Package stopwords is already up-to-date!\n"
     ]
    },
    {
     "data": {
      "text/plain": [
       "True"
      ]
     },
     "execution_count": 2,
     "metadata": {},
     "output_type": "execute_result"
    }
   ],
   "source": [
    "import nltk\n",
    "nltk.download('stopwords')"
   ]
  },
  {
   "cell_type": "code",
   "execution_count": 3,
   "metadata": {},
   "outputs": [],
   "source": [
    "default_files = ['doc', 'docx', 'pdf','DOC', 'DOCX', 'PDF']"
   ]
  },
  {
   "cell_type": "code",
   "execution_count": 4,
   "metadata": {},
   "outputs": [],
   "source": [
    "def resume2text(file_path):\n",
    "    content = textract.process(file_path)\n",
    "    content = str(content, 'utf-8')\n",
    "    lines = content.split('\\n')\n",
    "    paragraph = ''\n",
    "    for line in lines:\n",
    "        if line != '':\n",
    "            paragraph += line + '\\n'\n",
    "    return paragraph"
   ]
  },
  {
   "cell_type": "code",
   "execution_count": 34,
   "metadata": {},
   "outputs": [],
   "source": [
    "def extract_keywords(text):\n",
    "  rules = [\n",
    "            {r'>\\s+': u'>'},  \n",
    "            {r'\\s+': u' '},  \n",
    "            {r'\\s*<br\\s*/?>\\s*': u'\\n'}, \n",
    "            {r'</(div)\\s*>\\s*': u'\\n'},  \n",
    "            {r'</(p|h\\d)\\s*>\\s*': u'\\n\\n'},  \n",
    "            {r'<head>.*<\\s*(/head|body)[^>]*>': u''},  \n",
    "            {r'<a\\s+href=\"([^\"]+)\"[^>]*>.*</a>': r'\\1'}, \n",
    "            {r'[ \\t]*<[^<]*?/?>': u''}, \n",
    "            {r'^\\s+': u''}  \n",
    "          ]\n",
    "  for rule in rules:\n",
    "    for (k, v) in rule.items():\n",
    "      regex = re.compile(k)\n",
    "      text = regex.sub(v, text)\n",
    "    text = text.lower()\n",
    "    text = re.sub(\"\\s\\s+\", \" \", text) \n",
    "    text = re.sub('[\\d]', '', text)\n",
    "    text= ' '.join(text.split())\n",
    "    stop_words = stopwords.words('english')\n",
    "    text = ' '.join([word for word in text.split() if word not in (stop_words)])\n",
    "  return text\n"
   ]
  },
  {
   "cell_type": "code",
   "execution_count": 6,
   "metadata": {},
   "outputs": [],
   "source": [
    "def read_resumes(label,path_to_folder, file_types=default_files):\n",
    "    texted_files = []\n",
    "    file_names = []\n",
    "    labels=[]\n",
    "    for file_type in file_types:\n",
    "        file_path = path_to_folder\n",
    "        file_path += '/*.' + file_type\n",
    "        files = glob.glob(file_path)\n",
    "        for file in files:\n",
    "            try:\n",
    "                text = resume2text(file)\n",
    "            except:\n",
    "                print('Fail to parse ' + file)\n",
    "                continue\n",
    "            text = text.strip()\n",
    "            if len(text) == 0:\n",
    "                print('Fail to parse2 ' + file)\n",
    "            else:\n",
    "                texted_files.append(text)\n",
    "                labels.append(label)\n",
    "                file_names.append(file)\n",
    "                listt=[]\n",
    "                for texted in texted_files:\n",
    "                        keywords = extract_keywords(texted)\n",
    "                        \n",
    "                        listt.append(keywords)\n",
    "                d1={\"Text\":listt,\"Labels\":labels}\n",
    "                df=pd.DataFrame(d1)\n",
    "    return df,file_names \n"
   ]
  },
  {
   "cell_type": "raw",
   "metadata": {},
   "source": []
  },
  {
   "cell_type": "code",
   "execution_count": null,
   "metadata": {},
   "outputs": [],
   "source": []
  }
 ],
 "metadata": {
  "kernelspec": {
   "display_name": "DataScience 1.0",
   "language": "python",
   "name": "datascience"
  },
  "language_info": {
   "codemirror_mode": {
    "name": "ipython",
    "version": 3
   },
   "file_extension": ".py",
   "mimetype": "text/x-python",
   "name": "python",
   "nbconvert_exporter": "python",
   "pygments_lexer": "ipython3",
   "version": "3.7.3"
  }
 },
 "nbformat": 4,
 "nbformat_minor": 4
}
