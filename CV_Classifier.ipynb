{
 "cells": [
  {
   "cell_type": "code",
   "execution_count": 1,
   "metadata": {},
   "outputs": [
    {
     "name": "stdout",
     "output_type": "stream",
     "text": [
      "importing Jupyter notebook from CV_Preprocessing.ipynb\n"
     ]
    },
    {
     "name": "stderr",
     "output_type": "stream",
     "text": [
      "[nltk_data] Downloading package stopwords to\n",
      "[nltk_data]     /home/jasleen.bhatia@fiserv.com/nltk_data...\n",
      "[nltk_data]   Package stopwords is already up-to-date!\n"
     ]
    }
   ],
   "source": [
    "import tensorflow as tf\n",
    "from tensorflow import keras\n",
    "import pandas as pd\n",
    "from sklearn.preprocessing import LabelEncoder\n",
    "from sklearn.preprocessing import OneHotEncoder\n",
    "import nltk\n",
    "from nltk.corpus import stopwords\n",
    "import pydot\n",
    "import graphviz\n",
    "import numpy as np\n",
    "import matplotlib.pyplot as plt\n",
    "from nltk.corpus import stopwords\n",
    "import re\n",
    "import import_ipynb\n",
    "from Parameter_Define import *\n",
    "from CV_Preprocessing import *"
   ]
  },
  {
   "cell_type": "code",
   "execution_count": 2,
   "metadata": {},
   "outputs": [],
   "source": [
    "POSITIVE_FOLDER = parameters_values('pos')\n",
    "NEGATIVE_FOLDER = parameters_values('neg')\n",
    "pos_df,pos_file_names = read_resumes('hired', POSITIVE_FOLDER)\n",
    "neg_df,neg_file_names = read_resumes('rejected', NEGATIVE_FOLDER)\n",
    "pos_df[\"Pol\"] = 1\n",
    "neg_df[\"Pol\"] = 0\n",
    "load_dataset= pd.concat([pos_df, neg_df]).sample(frac=1).reset_index(drop=True)"
   ]
  },
  {
   "cell_type": "code",
   "execution_count": 3,
   "metadata": {},
   "outputs": [],
   "source": [
    "def split_test_train(data, prop=.80):\n",
    "    split_index = round(len(data)*prop)\n",
    "    train = data[:split_index]\n",
    "    test = data[split_index:]\n",
    "    return train, test"
   ]
  },
  {
   "cell_type": "code",
   "execution_count": 4,
   "metadata": {},
   "outputs": [
    {
     "name": "stdout",
     "output_type": "stream",
     "text": [
      "Training set size: 268, Test set size: 67\n"
     ]
    }
   ],
   "source": [
    "data=load_dataset[:]\n",
    "train_x, test_x = split_test_train(data[\"Text\"])\n",
    "train_y, test_y = split_test_train(data[\"Pol\"])\n",
    "\n",
    "print(\"Training set size: {0}, Test set size: {1}\".format(len(train_x), len(test_x)))"
   ]
  },
  {
   "cell_type": "code",
   "execution_count": 5,
   "metadata": {},
   "outputs": [],
   "source": [
    "#Preprocess X\n",
    "max_words = 1200\n",
    "t = tf.keras.preprocessing.text.Tokenizer(num_words = max_words)\n",
    "t.fit_on_texts(train_x)\n",
    "\n",
    "train_one_hot_x = t.texts_to_matrix(train_x, mode = 'count')\n",
    "test_one_hot_x = t.texts_to_matrix(test_x, mode = 'count')\n",
    "\n",
    "#Preprocess Y\n",
    "#values = list(set(train_y))"
   ]
  },
  {
   "cell_type": "code",
   "execution_count": 6,
   "metadata": {},
   "outputs": [],
   "source": [
    "#label_encoder = LabelEncoder()\n",
    "#y_encoded = label_encoder.fit_transform(train_y)\n",
    "#y_encoded = y_encoded.reshape(len(y_encoded), 1)\n",
    "#onehot_encoder = OneHotEncoder(sparse=False)\n",
    "#train_y_onehot= onehot_encoder.fit_transform(y_encoded)\n",
    "#\n",
    "#y_encoded = label_encoder.fit_transform(test_y)\n",
    "#y_encoded = y_encoded.reshape(len(y_encoded), 1)\n",
    "#onehot_encoder = OneHotEncoder(sparse=False)\n",
    "#test_y_onehot= onehot_encoder.fit_transform(y_encoded)"
   ]
  },
  {
   "cell_type": "code",
   "execution_count": 7,
   "metadata": {},
   "outputs": [],
   "source": [
    "#from tpot import TPOTClassifier\n",
    "#from sklearn.datasets import load_iris\n",
    "#from sklearn.model_selection import train_test_split\n",
    "#import numpy as np\n",
    "#\n",
    "#tpot = TPOTClassifier(generations=10, population_size=80, verbosity=2, random_state=42)\n",
    "#tpot.fit(train_one_hot_x, train_y)\n",
    "#print(tpot.score(test_one_hot_x, test_y))\n",
    "#tpot.export('tpot_pipeline_3.py')"
   ]
  },
  {
   "cell_type": "code",
   "execution_count": 8,
   "metadata": {},
   "outputs": [],
   "source": [
    "from sklearn.decomposition import PCA\n",
    "from sklearn.feature_selection import VarianceThreshold\n",
    "from sklearn.ensemble import ExtraTreesClassifier\n",
    "from sklearn.pipeline import make_pipeline\n",
    "from sklearn.svm import LinearSVC,SVC\n",
    "from tpot.export_utils import set_param_recursive\n",
    "exported_pipeline = make_pipeline(PCA(iterated_power=9, svd_solver=\"randomized\"),SVC (kernel='linear',C=0.001,  tol=0.01,probability=True))\n",
    "#exported_pipeline = make_pipeline(VarianceThreshold(threshold=0.1),ExtraTreesClassifier(bootstrap=False, criterion=\"gini\", max_features=0.1, min_samples_leaf=6, min_samples_split=16, n_estimators=100))\n",
    "\n",
    "# Fix random state for all the steps in exported pipeline\n",
    "set_param_recursive(exported_pipeline.steps, 'random_state', 42)\n",
    "\n",
    "exported_pipeline.fit(train_one_hot_x, train_y)\n",
    "results = exported_pipeline.predict(test_one_hot_x)\n",
    "\n"
   ]
  },
  {
   "cell_type": "code",
   "execution_count": 9,
   "metadata": {},
   "outputs": [],
   "source": [
    "#results"
   ]
  },
  {
   "cell_type": "code",
   "execution_count": 10,
   "metadata": {},
   "outputs": [
    {
     "name": "stdout",
     "output_type": "stream",
     "text": [
      "[[25  6]\n",
      " [10 26]]\n",
      "Classification report : \n",
      "               precision    recall  f1-score   support\n",
      "\n",
      "           1       0.71      0.81      0.76        31\n",
      "           0       0.81      0.72      0.76        36\n",
      "\n",
      "    accuracy                           0.76        67\n",
      "   macro avg       0.76      0.76      0.76        67\n",
      "weighted avg       0.77      0.76      0.76        67\n",
      "\n"
     ]
    },
    {
     "data": {
      "image/png": "[encoded data removed]",
      "text/plain": [
       "<Figure size 432x288 with 2 Axes>"
      ]
     },
     "metadata": {
      "needs_background": "light"
     },
     "output_type": "display_data"
    }
   ],
   "source": [
    "from sklearn.metrics import confusion_matrix\n",
    "from sklearn.metrics import classification_report\n",
    "import seaborn as sns\n",
    "import matplotlib.pyplot as plt     \n",
    "cm=confusion_matrix(test_y, results,labels=[1,0])\n",
    "ax= plt.subplot()\n",
    "sns.heatmap(cm, annot=True, ax = ax); #annot=True to annotate cells\n",
    "\n",
    "# labels, title and ticks\n",
    "ax.set_xlabel('Actual');ax.set_ylabel('Predicted'); \n",
    "ax.set_title('Confusion Matrix'); \n",
    "ax.xaxis.set_ticklabels(['Pos', 'Neg']); ax.yaxis.set_ticklabels(['pos', 'neg']);\n",
    "print(cm)\n",
    "matrix = classification_report(test_y, results,labels=[1,0])\n",
    "print('Classification report : \\n',matrix)"
   ]
  },
  {
   "cell_type": "code",
   "execution_count": 11,
   "metadata": {},
   "outputs": [],
   "source": [
    "#exported_pipeline.save(\"Model_Saved/MSBI_Resume_Model.h5\")\n",
    "import pickle\n",
    "pkl_filename = \"Model_Saved/MSBI_Resume_Model.pkl\"\n",
    "with open(pkl_filename, 'wb') as file:\n",
    "    pickle.dump(exported_pipeline, file)\n",
    "\n"
   ]
  },
  {
   "cell_type": "code",
   "execution_count": 20,
   "metadata": {},
   "outputs": [
    {
     "data": {
      "text/plain": [
       "['Raw_Data/Positive/Resume - Shubham Agrawal.docx',\n",
       " 'Raw_Data/Positive/Resume - Paresh Ahirrao.docx',\n",
       " 'Raw_Data/Positive/Nitin Raghuwanshi.docx',\n",
       " 'Raw_Data/Positive/Resume - Shilpa Mittal.docx',\n",
       " 'Raw_Data/Positive/Resume - Yogesh Irmal.docx',\n",
       " 'Raw_Data/Positive/Mohammad Faizan.docx',\n",
       " 'Raw_Data/Positive/Resume - Disha Mantoo.docx',\n",
       " 'Raw_Data/Positive/Resume - Omprakash Kendre.docx',\n",
       " 'Raw_Data/Positive/Mahesh Chavan.docx',\n",
       " 'Raw_Data/Positive/Resume - Yogesh Balodi.docx',\n",
       " 'Raw_Data/Positive/Resume - Vipul Sachan.docx',\n",
       " 'Raw_Data/Positive/Resume - Suresh Chandra.docx',\n",
       " 'Raw_Data/Positive/Resume - Pankaj Sarogi.docx',\n",
       " 'Raw_Data/Positive/Resume - Vinuraj.docx',\n",
       " 'Raw_Data/Positive/Resume - Irwin Chawla.docx',\n",
       " 'Raw_Data/Positive/Reshma Jadhav cv .docx',\n",
       " 'Raw_Data/Positive/Resume - Ankur Ahuja.docx',\n",
       " 'Raw_Data/Positive/Resume - Amandeep Kukkar.docx',\n",
       " 'Raw_Data/Positive/Resume - Shivani Sengar.docx',\n",
       " 'Raw_Data/Positive/Raushan_Das_Resume.docx',\n",
       " 'Raw_Data/Positive/Resume - Abhishek Sharma.docx',\n",
       " 'Raw_Data/Positive/prachisute07@gmailDotcom.docx',\n",
       " 'Raw_Data/Positive/Resume - Prashant Mishra.docx',\n",
       " 'Raw_Data/Positive/Resume - Aditi Rai.docx',\n",
       " 'Raw_Data/Positive/Bibhudatta_Hotta_Resume.docx',\n",
       " 'Raw_Data/Positive/Resume_Sreenivas.docx',\n",
       " 'Raw_Data/Positive/Resume_KedarnathPohankar.docx',\n",
       " 'Raw_Data/Positive/Resume_JatinGarg.docx',\n",
       " 'Raw_Data/Positive/Resume - Pranav Raghuvanshi.docx',\n",
       " 'Raw_Data/Positive/Resume_Swapnil_Verma.docx',\n",
       " 'Raw_Data/Positive/Resume_Saurabh_Pali.docx',\n",
       " 'Raw_Data/Positive/Resume - Nandini Mangal.docx',\n",
       " 'Raw_Data/Positive/Resume - Tripti Kumari.docx',\n",
       " 'Raw_Data/Positive/Vikash_kumar_chaudhari.docx',\n",
       " 'Raw_Data/Positive/Resume_MohdSufiyanAnsari.docx',\n",
       " 'Raw_Data/Positive/Ashok kumar Yadav.docx',\n",
       " 'Raw_Data/Positive/Sweta Kumari COBOL.docx',\n",
       " 'Raw_Data/Positive/Ratnadeep Adsule.docx',\n",
       " 'Raw_Data/Positive/ANURAG SHUKLA.docx',\n",
       " 'Raw_Data/Positive/Resume - Navratan Pardeshi.docx',\n",
       " 'Raw_Data/Positive/Resume - Ankit Sankhla.docx',\n",
       " 'Raw_Data/Positive/Kathale\\xa0Shrinivas.docx',\n",
       " 'Raw_Data/Positive/Resume - Akash Rastogi.docx',\n",
       " 'Raw_Data/Positive/Resume - Gaurav Gandhi.docx',\n",
       " 'Raw_Data/Positive/Manish Amin.docx',\n",
       " 'Raw_Data/Positive/Resume - Vedant Rasal.docx',\n",
       " 'Raw_Data/Positive/Manali Kashyap.docx',\n",
       " 'Raw_Data/Positive/Resume - Siddharth Gupta.docx',\n",
       " 'Raw_Data/Positive/CV-Jagpreet_Thakur SQL Developer.docx',\n",
       " 'Raw_Data/Positive/Resume - Rasika Nagolkar.docx',\n",
       " 'Raw_Data/Positive/Resume - Jasneet Kaur Saini.docx',\n",
       " 'Raw_Data/Positive/Resume - Iman Banerjee.docx',\n",
       " 'Raw_Data/Positive/Resume - Khyati Arya.docx',\n",
       " 'Raw_Data/Positive/Madheswaran Sivalingam_16yrs_Chennai.docx',\n",
       " 'Raw_Data/Positive/Resume - Renu Khatkar.docx',\n",
       " 'Raw_Data/Positive/Resume - HariomDixit.docx',\n",
       " 'Raw_Data/Positive/Resume - Alok  Naik.docx',\n",
       " 'Raw_Data/Positive/Resume_Format.docx',\n",
       " 'Raw_Data/Positive/Resume_NarendraSingh.docx',\n",
       " 'Raw_Data/Positive/Resume - Abhishek Rajpurohit.docx',\n",
       " 'Raw_Data/Positive/Shubham Garg.docx',\n",
       " 'Raw_Data/Positive/Resume - Vishal Kawdiya.docx',\n",
       " 'Raw_Data/Positive/Sasksi_Ahuja.docx',\n",
       " 'Raw_Data/Positive/Resume - Sreenatha.docx',\n",
       " 'Raw_Data/Positive/Resume_Abhilash_Dec_2019.docx',\n",
       " 'Raw_Data/Positive/Resume - Utkarsha Burse.docx',\n",
       " 'Raw_Data/Positive/Deepak Mishra.docx',\n",
       " 'Raw_Data/Positive/Resume - Vivek Shilimkar.docx',\n",
       " 'Raw_Data/Positive/Resume Anand Mehra.docx',\n",
       " 'Raw_Data/Positive/Resume - Ayush Khanduri.docx',\n",
       " 'Raw_Data/Positive/Resume - Arjun Gohad.docx',\n",
       " 'Raw_Data/Positive/Resume - Nilesh Jadhav.docx',\n",
       " 'Raw_Data/Positive/Vardhan Joshi.docx',\n",
       " 'Raw_Data/Positive/Resume_JayeshDeshpande.docx',\n",
       " 'Raw_Data/Positive/VivekShilimkar.docx',\n",
       " 'Raw_Data/Positive/Resume - Manish Maheshwari.docx',\n",
       " 'Raw_Data/Positive/Resume - Rohit Kumar.docx',\n",
       " 'Raw_Data/Positive/Resume - Himanshu Chouhan.docx',\n",
       " 'Raw_Data/Positive/Resume_Anil Chahar.docx',\n",
       " 'Raw_Data/Positive/Resume_Arun Singh.docx',\n",
       " 'Raw_Data/Positive/Resume - Manish Mahalwal.docx',\n",
       " 'Raw_Data/Positive/Resume - Anup Singh.docx',\n",
       " 'Raw_Data/Positive/Resume - Bimalendu Dhar.docx',\n",
       " 'Raw_Data/Positive/Bikash Singh.docx',\n",
       " 'Raw_Data/Positive/Resume_PreethiNair.docx',\n",
       " 'Raw_Data/Positive/Resume - Charu Agarwal.docx',\n",
       " 'Raw_Data/Positive/Resume - Prashant Mahalpure.docx',\n",
       " 'Raw_Data/Positive/Resume - Chahat Kaur Chhabra.docx',\n",
       " 'Raw_Data/Positive/Resume_ShikhaBhati.docx',\n",
       " 'Raw_Data/Positive/Sandip p. Gugaliya.docx',\n",
       " 'Raw_Data/Positive/Resume - Ravi Kumar.docx',\n",
       " 'Raw_Data/Positive/Resume - Anchal Sood.docx',\n",
       " 'Raw_Data/Positive/Resume - Amit Kumar Khatri.docx',\n",
       " 'Raw_Data/Positive/Resume - Manish Misra.docx',\n",
       " 'Raw_Data/Positive/AbhishekSrivastava[5_8].docx',\n",
       " 'Raw_Data/Positive/Sourabh Muchhal.docx',\n",
       " 'Raw_Data/Positive/Poonam_Sonawane_InfaETL.docx',\n",
       " 'Raw_Data/Positive/VipulSachan_4.9Yrs_.NET_MSBI.docx',\n",
       " 'Raw_Data/Positive/Vikas_Bali_GS.docx',\n",
       " 'Raw_Data/Positive/Resume - Shalini Shivhare.docx',\n",
       " 'Raw_Data/Positive/Resume - Bharat Mahajan.docx',\n",
       " 'Raw_Data/Positive/Resume - Sulakshna Dharwal.docx',\n",
       " 'Raw_Data/Positive/Resume_Sonia Sharma.docx',\n",
       " 'Raw_Data/Positive/Resume - Surendra K.docx',\n",
       " 'Raw_Data/Positive/Resume - Priyanka Chaudhari.docx',\n",
       " 'Raw_Data/Positive/Resume - Sumit Goel.docx',\n",
       " 'Raw_Data/Positive/Devidas Sonsale.docx',\n",
       " 'Raw_Data/Positive/Resume - Deepshikha Singh.docx',\n",
       " 'Raw_Data/Positive/Pankaj Kumar SQL.docx',\n",
       " 'Raw_Data/Positive/Resume_SourabhVerma.docx',\n",
       " 'Raw_Data/Positive/Resume_SumitArora.docx',\n",
       " 'Raw_Data/Positive/Resume - Ankit oza.docx',\n",
       " 'Raw_Data/Positive/Resume_Vaibhav_Kate_ETL_Talend_Developer_07_Years_Exp.docx',\n",
       " 'Raw_Data/Positive/Resume - Vimal Lohani.docx',\n",
       " 'Raw_Data/Positive/Resume - Vinay Verma.docx',\n",
       " 'Raw_Data/Positive/Devendra_Sahu_Data_Analyst.docx',\n",
       " 'Raw_Data/Positive/Resume - Kunika Aggarwal.docx',\n",
       " 'Raw_Data/Positive/Resume - Mayank Jain.docx',\n",
       " 'Raw_Data/Positive/Diwakar Sinha-MSBI.docx',\n",
       " 'Raw_Data/Positive/Resume_Ankur_Ummat.docx',\n",
       " 'Raw_Data/Positive/Sandeep Asthana.docx',\n",
       " 'Raw_Data/Positive/Resume - Shantanu Narale.docx',\n",
       " 'Raw_Data/Positive/PARESH AHIRRAO.docx',\n",
       " 'Raw_Data/Positive/Bhoomika.docx',\n",
       " 'Raw_Data/Positive/Vijay Kumar Ajarla-13yrs-Tableau Architect-Hyderabad.docx',\n",
       " 'Raw_Data/Positive/Tejveer Singh Chauhan.docx',\n",
       " 'Raw_Data/Positive/Resume - Gunjan Kharwade.docx',\n",
       " 'Raw_Data/Positive/Resume - Sandip Satale.docx',\n",
       " 'Raw_Data/Positive/Resume_RishuChopra.docx',\n",
       " 'Raw_Data/Positive/VedantMukundRasal.docx',\n",
       " 'Raw_Data/Positive/Resume - Zaid Hodekar.docx',\n",
       " 'Raw_Data/Positive/Amit S.docx',\n",
       " 'Raw_Data/Positive/Resume_MohdZubairAnsari.docx',\n",
       " 'Raw_Data/Positive/HARSHAL KHAKOLE Informatica.docx',\n",
       " 'Raw_Data/Positive/Resume_Pooja_Goel.docx',\n",
       " 'Raw_Data/Positive/Resume - Nagababu Thota.docx',\n",
       " 'Raw_Data/Positive/Resume_Anushree Patil.docx',\n",
       " 'Raw_Data/Positive/Resume - Pallavi Dudeja.docx',\n",
       " 'Raw_Data/Positive/Resume - Nitin Chhabra.docx',\n",
       " 'Raw_Data/Positive/Resume - Pushpendra Kumar.docx',\n",
       " 'Raw_Data/Positive/Lalit_Software_Test_Engineer.docx',\n",
       " 'Raw_Data/Positive/Resume - Subhash Gahlot.docx',\n",
       " 'Raw_Data/Positive/Resume - Sandip Gugaliya.docx',\n",
       " 'Raw_Data/Positive/Resume - Nikhil Mahajan.docx',\n",
       " 'Raw_Data/Positive/Resume - Pooja Singh.docx',\n",
       " 'Raw_Data/Positive/GS_Resume_Patnala_Prem_Sai(10128046).docx',\n",
       " 'Raw_Data/Positive/Resume - Ankush Verma.docx',\n",
       " 'Raw_Data/Positive/PrinceJain[6_0].docx',\n",
       " 'Raw_Data/Positive/Manoj Bhadiyadra Resume _GS.docx',\n",
       " 'Raw_Data/Positive/Resume_Tushar Tawanee.docx',\n",
       " 'Raw_Data/Positive/Resume - Imran Nilufar.docx',\n",
       " 'Raw_Data/Positive/Resume - Rajiv Khuntia.docx',\n",
       " 'Raw_Data/Positive/Resume_AvinashDubey.docx',\n",
       " 'Raw_Data/Positive/Resume - Priyanka Sharma.docx',\n",
       " 'Raw_Data/Positive/SHUBHAM AGRAWAL.docx',\n",
       " 'Raw_Data/Positive/Devesh Kumar Singh.pdf',\n",
       " 'Raw_Data/Positive/Resume - Ankit Seth.pdf',\n",
       " 'Raw_Data/Positive/AMISH OJHA.pdf',\n",
       " 'Raw_Data/Positive/Resume_Akash_Updated.pdf',\n",
       " 'Raw_Data/Positive/Resume - Sachin Kumar Srivastav.pdf',\n",
       " 'Raw_Data/Positive/Shivam Rathi.pdf',\n",
       " 'Raw_Data/Positive/Resume - Swati Kumari.pdf',\n",
       " 'Raw_Data/Positive/vinay kumar.pdf',\n",
       " 'Raw_Data/Positive/Resume - Umesh Mane.pdf',\n",
       " 'Raw_Data/Positive/GS_Resume_Amrita.pdf',\n",
       " 'Raw_Data/Positive/Resume - Pooja Bery.pdf',\n",
       " 'Raw_Data/Positive/Resume - Pratima Khatri.pdf',\n",
       " 'Raw_Data/Positive/Resume_Jagtendra.pdf',\n",
       " 'Raw_Data/Positive/GAURI SANKAR SHARMA.DOCX']"
      ]
     },
     "execution_count": 20,
     "metadata": {},
     "output_type": "execute_result"
    }
   ],
   "source": [
    "pos_file_names"
   ]
  },
  {
   "cell_type": "code",
   "execution_count": 17,
   "metadata": {},
   "outputs": [],
   "source": [
    "testt_y=test_y.tolist() "
   ]
  },
  {
   "cell_type": "code",
   "execution_count": 19,
   "metadata": {},
   "outputs": [
    {
     "data": {
      "text/plain": [
       "{0: {'TP': [1,\n",
       "   2,\n",
       "   3,\n",
       "   5,\n",
       "   6,\n",
       "   7,\n",
       "   8,\n",
       "   12,\n",
       "   14,\n",
       "   15,\n",
       "   16,\n",
       "   17,\n",
       "   20,\n",
       "   21,\n",
       "   22,\n",
       "   23,\n",
       "   27,\n",
       "   31,\n",
       "   34,\n",
       "   38,\n",
       "   41,\n",
       "   50,\n",
       "   54,\n",
       "   60,\n",
       "   63,\n",
       "   65],\n",
       "  'FP': [11, 24, 37, 49, 55, 61],\n",
       "  'TN': [0,\n",
       "   9,\n",
       "   10,\n",
       "   13,\n",
       "   18,\n",
       "   19,\n",
       "   25,\n",
       "   28,\n",
       "   29,\n",
       "   35,\n",
       "   36,\n",
       "   39,\n",
       "   42,\n",
       "   43,\n",
       "   45,\n",
       "   48,\n",
       "   51,\n",
       "   53,\n",
       "   56,\n",
       "   57,\n",
       "   58,\n",
       "   59,\n",
       "   62,\n",
       "   64,\n",
       "   66],\n",
       "  'FN': [4, 26, 30, 32, 33, 40, 44, 46, 47, 52]},\n",
       " 1: {'TP': [0,\n",
       "   9,\n",
       "   10,\n",
       "   13,\n",
       "   18,\n",
       "   19,\n",
       "   25,\n",
       "   28,\n",
       "   29,\n",
       "   35,\n",
       "   36,\n",
       "   39,\n",
       "   42,\n",
       "   43,\n",
       "   45,\n",
       "   48,\n",
       "   51,\n",
       "   53,\n",
       "   56,\n",
       "   57,\n",
       "   58,\n",
       "   59,\n",
       "   62,\n",
       "   64,\n",
       "   66],\n",
       "  'FP': [4, 26, 30, 32, 33, 40, 44, 46, 47, 52],\n",
       "  'TN': [1,\n",
       "   2,\n",
       "   3,\n",
       "   5,\n",
       "   6,\n",
       "   7,\n",
       "   8,\n",
       "   12,\n",
       "   14,\n",
       "   15,\n",
       "   16,\n",
       "   17,\n",
       "   20,\n",
       "   21,\n",
       "   22,\n",
       "   23,\n",
       "   27,\n",
       "   31,\n",
       "   34,\n",
       "   38,\n",
       "   41,\n",
       "   50,\n",
       "   54,\n",
       "   60,\n",
       "   63,\n",
       "   65],\n",
       "  'FN': [11, 24, 37, 49, 55, 61]}}"
      ]
     },
     "execution_count": 19,
     "metadata": {},
     "output_type": "execute_result"
    }
   ],
   "source": [
    "from pycm import *\n",
    "cm = ConfusionMatrix(actual_vector=testt_y, predict_vector=results) # Create CM From Data\n",
    "cm.position()"
   ]
  },
  {
   "cell_type": "code",
   "execution_count": null,
   "metadata": {},
   "outputs": [],
   "source": [
    "exported_pipeline.score(test_one_hot_x,test_y)"
   ]
  },
  {
   "cell_type": "code",
   "execution_count": null,
   "metadata": {},
   "outputs": [],
   "source": [
    "#model = Sequential()\n",
    "#model.add(GRU(256 , input_shape = (1 , number_of_days) , return_sequences=True))\n",
    "#model.add(Dropout(0.4))\n",
    "#model.add(LSTM(256, activation='relu'))\n",
    "#model.add(Dropout(0.4))\n",
    "#model.add(Dense(64 ,  activation = 'relu'))\n",
    "#model.add(Dense(1, activation='sigmoid'))\n",
    "#print(model.summary())\n",
    "#model.compile(loss='mse', optimizer=Adam(lr = 0.0005) , metrics = ['mean_squared_error','accuracy']) \n",
    "#history = model.fit(train_one_hot_x, train_y_onehot,batch_size=20,epochs=50,validation_data=(test_one_hot_x, test_y_onehot))\n",
    "#print(history.history.keys())\n",
    "#print(model.evaluate(test_one_hot_x, test_y_onehot,batch_size=20, verbose=2))"
   ]
  },
  {
   "cell_type": "code",
   "execution_count": null,
   "metadata": {},
   "outputs": [],
   "source": [
    "#Define model\n",
    "\n",
    "#model = tf.keras.models.Sequential()\n",
    "#model.add(tf.keras.layers.Dense(64,activation = \"relu\",input_shape=(max_words, )))\n",
    "#model.add(tf.keras.layers.Dense(len(values), activation = \"softmax\"))\n",
    "#\n",
    "#model.summary()\n",
    "#tf.keras.utils.plot_model(\n",
    "#    model, to_file='dl_layers.png', show_shapes=True, show_layer_names=True,\n",
    "#    rankdir='TB', expand_nested=True, dpi=120\n",
    "#)"
   ]
  },
  {
   "cell_type": "code",
   "execution_count": null,
   "metadata": {},
   "outputs": [],
   "source": [
    "#model.compile(optimizer='Adam',loss='mse',metrics=['accuracy'])\n",
    "#\n",
    "#history = model.fit(train_one_hot_x, train_y_onehot,batch_size=20,epochs=10,validation_data=(test_one_hot_x, test_y_onehot))\n",
    "#print(history.history.keys())\n",
    "#print(model.evaluate(test_one_hot_x, test_y_onehot,batch_size=20, verbose=2))"
   ]
  },
  {
   "cell_type": "code",
   "execution_count": null,
   "metadata": {},
   "outputs": [],
   "source": [
    "#from sklearn.metrics import classification_report,recall_score,precision_score,confusion_matrix\n",
    "#y_pred=model.predict(test_one_hot_x)\n",
    "#print(confusion_matrix(test_y_onehot.argmax(axis=1), y_pred.argmax(axis=1),labels=[1,0]))"
   ]
  },
  {
   "cell_type": "code",
   "execution_count": null,
   "metadata": {},
   "outputs": [],
   "source": [
    "#import seaborn as sns\n",
    "#import matplotlib.pyplot as plt     \n",
    "#results=confusion_matrix(test_y_onehot.argmax(axis=1), y_pred.argmax(axis=1),labels=[1,0])\n",
    "#ax= plt.subplot()\n",
    "#sns.heatmap(results, annot=True, ax = ax); #annot=True to annotate cells\n",
    "#\n",
    "## labels, title and ticks\n",
    "#ax.set_xlabel('Actual');ax.set_ylabel('Predicted'); \n",
    "#ax.set_title('Confusion Matrix'); \n",
    "#ax.xaxis.set_ticklabels(['Pos', 'Neg']); ax.yaxis.set_ticklabels(['pos', 'neg']);\n",
    "#print(results)"
   ]
  },
  {
   "cell_type": "code",
   "execution_count": null,
   "metadata": {},
   "outputs": [],
   "source": []
  }
 ],
 "metadata": {
  "kernelspec": {
   "display_name": "DataScience 1.0",
   "language": "python",
   "name": "datascience"
  },
  "language_info": {
   "codemirror_mode": {
    "name": "ipython",
    "version": 3
   },
   "file_extension": ".py",
   "mimetype": "text/x-python",
   "name": "python",
   "nbconvert_exporter": "python",
   "pygments_lexer": "ipython3",
   "version": "3.7.3"
  }
 },
 "nbformat": 4,
 "nbformat_minor": 4
}
